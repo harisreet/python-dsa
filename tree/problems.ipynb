{
 "cells": [
  {
   "cell_type": "markdown",
   "id": "66d23a63",
   "metadata": {},
   "source": [
    "Given the root of a binary tree, invert the tree, and return its root.\n",
    "\n",
    "Input: root = [2,1,3]\n",
    "Output: [2,3,1]"
   ]
  },
  {
   "cell_type": "code",
   "execution_count": null,
   "id": "3993bf70",
   "metadata": {},
   "outputs": [],
   "source": [
    "class Solution:\n",
    "    def invertTree(self, root: Optional[TreeNode]) -> Optional[TreeNode]:\n",
    "        if root is not None:\n",
    "            root.left,root.right=root.right,root.left\n",
    "            self.invertTree(root.left)\n",
    "            self.invertTree(root.right)\n",
    "        return root"
   ]
  },
  {
   "cell_type": "markdown",
   "id": "df138c4d",
   "metadata": {},
   "source": [
    "538. Convert BST to Greater Tree\n",
    "\n",
    "Given the root of a Binary Search Tree (BST), convert it to a Greater Tree such that every key of the original BST is changed to the original key plus the sum of all keys greater than the original key in BST.\n",
    "\n",
    "As a reminder, a binary search tree is a tree that satisfies these constraints:\n",
    "\n",
    "The left subtree of a node contains only nodes with keys less than the node's key.\n",
    "The right subtree of a node contains only nodes with keys greater than the node's key.\n",
    "Both the left and right subtrees must also be binary search trees."
   ]
  },
  {
   "cell_type": "code",
   "execution_count": null,
   "id": "05ced4ac",
   "metadata": {},
   "outputs": [],
   "source": [
    "class Solution:\n",
    "    def convertBST(self, root: Optional[TreeNode]) -> Optional[TreeNode]:\n",
    "        ans=0\n",
    "        def inorder_traverse(root):\n",
    "            nonlocal ans\n",
    "            if root is not None:\n",
    "                inorder_traverse(root.right)\n",
    "                root.val+=ans\n",
    "                ans=root.val\n",
    "                inorder_traverse(root.left)\n",
    "        inorder_traverse(root)\n",
    "        return root\n",
    "        "
   ]
  },
  {
   "cell_type": "markdown",
   "id": "c5bb5924",
   "metadata": {},
   "source": [
    "124.binary tree maximum path sum\n",
    "\n",
    "A path in a binary tree is a sequence of nodes where each pair of adjacent nodes in the sequence has an edge connecting them. A node can only appear in the sequence at most once. Note that the path does not need to pass through the root.\n",
    "\n",
    "The path sum of a path is the sum of the node's values in the path.\n",
    "\n",
    "Given the root of a binary tree, return the maximum path sum of any non-empty path"
   ]
  },
  {
   "cell_type": "code",
   "execution_count": null,
   "id": "71ddb567",
   "metadata": {},
   "outputs": [],
   "source": [
    "class Solution:\n",
    "    def maxPathSum(self, root: Optional[TreeNode]) -> int:\n",
    "\n",
    "        maxsum=-float(\"inf\")\n",
    "        def traverse(root):\n",
    "            nonlocal maxsum\n",
    "            if root is None:\n",
    "                return 0\n",
    "            left=max(traverse(root.left),0)\n",
    "            right=max(traverse(root.right),0)\n",
    "            maxsum=max(maxsum,(root.val+left+right))\n",
    "            return root.val+max(left,right)\n",
    "        traverse(root)\n",
    "        return maxsum"
   ]
  }
 ],
 "metadata": {
  "kernelspec": {
   "display_name": "Python 3",
   "language": "python",
   "name": "python3"
  },
  "language_info": {
   "name": "python",
   "version": "3.13.1"
  }
 },
 "nbformat": 4,
 "nbformat_minor": 5
}
