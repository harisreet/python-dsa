{
 "cells": [
  {
   "cell_type": "code",
   "execution_count": 18,
   "id": "4cef9810",
   "metadata": {},
   "outputs": [],
   "source": [
    "class node():\n",
    "    def __init__(self,value):\n",
    "        self.value=value\n",
    "        self.left=None\n",
    "        self.right=None"
   ]
  },
  {
   "cell_type": "code",
   "execution_count": null,
   "id": "d806ba81",
   "metadata": {},
   "outputs": [],
   "source": [
    "class bst():\n",
    "\n",
    "    def __init__(self):\n",
    "        self.root=None\n",
    "\n",
    "    def insert(self,value):\n",
    "        newnode = node(value)\n",
    "        if self.root is None:\n",
    "            self.root = newnode\n",
    "            return True\n",
    "        \n",
    "        temp=self.root\n",
    "        while True:\n",
    "            if temp.value > newnode.value:\n",
    "                if temp.left is None:\n",
    "                    temp.left=newnode\n",
    "                    return True\n",
    "                temp=temp.left\n",
    "            elif temp.value < newnode.value:\n",
    "                if temp.right is None:\n",
    "                    temp.right=newnode\n",
    "                    return True\n",
    "                temp=temp.right\n",
    "            else:\n",
    "                return False\n",
    "            \n",
    "    def min_value(self,head) -> int :\n",
    "        temp=head\n",
    "\n",
    "        while temp.left is not None:\n",
    "           temp=temp.left\n",
    "        return temp.value\n",
    "    \n",
    "    def max_value(self,head) -> int :\n",
    "        temp=head\n",
    "\n",
    "        while temp.right is not None:\n",
    "           temp=temp.right\n",
    "        return temp.value\n",
    "    \n",
    "    def search(self,key):\n",
    "\n",
    "        temp=self.root\n",
    "\n",
    "        while True:\n",
    "            if temp is None:\n",
    "                return False\n",
    "            if temp.value > key :\n",
    "                temp=temp.left\n",
    "            elif temp.value < key :\n",
    "                temp=temp.right\n",
    "            else:\n",
    "                return True\n",
    "            \n",
    "    def bfs(self):\n",
    "         temp=self.root\n",
    "         q=[]\n",
    "         res=[]\n",
    "\n",
    "         q.append(temp)\n",
    "         while len(q) != 0 :\n",
    "             k = q.pop()\n",
    "             res.append(k.value)\n",
    "             if k.left is not None:\n",
    "                 q.append(k.left)\n",
    "             if k.right is not None:\n",
    "                 q.append(k.right)\n",
    "         return res\n",
    "    \n",
    "    def inorder(self):\n",
    "        res=[]\n",
    "        def traverse(head):\n",
    "\n",
    "            if head is not None:\n",
    "                traverse(head.left)\n",
    "                res.append(head.value)\n",
    "                traverse(head.right)\n",
    "        traverse(self.root)\n",
    "        return res\n",
    "    \n",
    "    def preorder(self):\n",
    "        res=[]\n",
    "        def traverse(head):\n",
    "\n",
    "            if head is not None:\n",
    "                res.append(head.value)\n",
    "                traverse(head.left)\n",
    "                traverse(head.right)\n",
    "        traverse(self.root)\n",
    "        return res\n",
    "    \n",
    "    def postorder(self):\n",
    "        res=[]\n",
    "        def traverse(head):\n",
    "\n",
    "            if head is not None:\n",
    "                traverse(head.left)\n",
    "                traverse(head.right)\n",
    "                res.append(head.value)\n",
    "        traverse(self.root)\n",
    "        return res\n"
   ]
  },
  {
   "cell_type": "code",
   "execution_count": 20,
   "id": "3f6f8505",
   "metadata": {},
   "outputs": [],
   "source": [
    "mytree = bst()"
   ]
  },
  {
   "cell_type": "code",
   "execution_count": 21,
   "id": "a399a42c",
   "metadata": {},
   "outputs": [
    {
     "name": "stdout",
     "output_type": "stream",
     "text": [
      "True\n"
     ]
    }
   ],
   "source": [
    "print(mytree.insert(20))"
   ]
  },
  {
   "cell_type": "code",
   "execution_count": 22,
   "id": "ae6db71e",
   "metadata": {},
   "outputs": [
    {
     "name": "stdout",
     "output_type": "stream",
     "text": [
      "True\n"
     ]
    }
   ],
   "source": [
    "print(mytree.insert(10))"
   ]
  },
  {
   "cell_type": "code",
   "execution_count": 23,
   "id": "b7794901",
   "metadata": {},
   "outputs": [
    {
     "name": "stdout",
     "output_type": "stream",
     "text": [
      "False\n"
     ]
    }
   ],
   "source": [
    "print(mytree.insert(20))"
   ]
  },
  {
   "cell_type": "code",
   "execution_count": 24,
   "id": "9b521b6d",
   "metadata": {},
   "outputs": [
    {
     "name": "stdout",
     "output_type": "stream",
     "text": [
      "True\n"
     ]
    }
   ],
   "source": [
    "print(mytree.insert(30))"
   ]
  },
  {
   "cell_type": "code",
   "execution_count": 25,
   "id": "b4072a4e",
   "metadata": {},
   "outputs": [
    {
     "data": {
      "text/plain": [
       "True"
      ]
     },
     "execution_count": 25,
     "metadata": {},
     "output_type": "execute_result"
    }
   ],
   "source": [
    "mytree.insert(40)"
   ]
  },
  {
   "cell_type": "code",
   "execution_count": 26,
   "id": "f48c30b4",
   "metadata": {},
   "outputs": [
    {
     "data": {
      "text/plain": [
       "True"
      ]
     },
     "execution_count": 26,
     "metadata": {},
     "output_type": "execute_result"
    }
   ],
   "source": [
    "mytree.insert(1)"
   ]
  },
  {
   "cell_type": "code",
   "execution_count": 27,
   "id": "be303646",
   "metadata": {},
   "outputs": [
    {
     "data": {
      "text/plain": [
       "20"
      ]
     },
     "execution_count": 27,
     "metadata": {},
     "output_type": "execute_result"
    }
   ],
   "source": [
    "mytree.root.value"
   ]
  },
  {
   "cell_type": "code",
   "execution_count": 28,
   "id": "00fcbc63",
   "metadata": {},
   "outputs": [
    {
     "data": {
      "text/plain": [
       "10"
      ]
     },
     "execution_count": 28,
     "metadata": {},
     "output_type": "execute_result"
    }
   ],
   "source": [
    "mytree.root.left.value"
   ]
  },
  {
   "cell_type": "code",
   "execution_count": 29,
   "id": "6cd1cad6",
   "metadata": {},
   "outputs": [
    {
     "data": {
      "text/plain": [
       "30"
      ]
     },
     "execution_count": 29,
     "metadata": {},
     "output_type": "execute_result"
    }
   ],
   "source": [
    "mytree.root.right.value"
   ]
  },
  {
   "cell_type": "code",
   "execution_count": 30,
   "id": "dcbdb8b4",
   "metadata": {},
   "outputs": [
    {
     "data": {
      "text/plain": [
       "1"
      ]
     },
     "execution_count": 30,
     "metadata": {},
     "output_type": "execute_result"
    }
   ],
   "source": [
    "mytree.min_value(mytree.root)"
   ]
  },
  {
   "cell_type": "code",
   "execution_count": 31,
   "id": "3dba6ae2",
   "metadata": {},
   "outputs": [
    {
     "data": {
      "text/plain": [
       "40"
      ]
     },
     "execution_count": 31,
     "metadata": {},
     "output_type": "execute_result"
    }
   ],
   "source": [
    "mytree.max_value(mytree.root)"
   ]
  },
  {
   "cell_type": "code",
   "execution_count": 32,
   "id": "4837953d",
   "metadata": {},
   "outputs": [
    {
     "data": {
      "text/plain": [
       "False"
      ]
     },
     "execution_count": 32,
     "metadata": {},
     "output_type": "execute_result"
    }
   ],
   "source": [
    "mytree.search(90)"
   ]
  },
  {
   "cell_type": "code",
   "execution_count": 33,
   "id": "06c3ae99",
   "metadata": {},
   "outputs": [
    {
     "data": {
      "text/plain": [
       "[20, 30, 40, 10, 1]"
      ]
     },
     "execution_count": 33,
     "metadata": {},
     "output_type": "execute_result"
    }
   ],
   "source": [
    "mytree.bfs()"
   ]
  },
  {
   "cell_type": "code",
   "execution_count": 34,
   "id": "fc2e1722",
   "metadata": {},
   "outputs": [
    {
     "data": {
      "text/plain": [
       "[1, 10, 20, 30, 40]"
      ]
     },
     "execution_count": 34,
     "metadata": {},
     "output_type": "execute_result"
    }
   ],
   "source": [
    "mytree.inorder()"
   ]
  },
  {
   "cell_type": "code",
   "execution_count": 35,
   "id": "2e23a81f",
   "metadata": {},
   "outputs": [
    {
     "data": {
      "text/plain": [
       "[20, 10, 1, 30, 40]"
      ]
     },
     "execution_count": 35,
     "metadata": {},
     "output_type": "execute_result"
    }
   ],
   "source": [
    "mytree.preorder()"
   ]
  },
  {
   "cell_type": "code",
   "execution_count": 36,
   "id": "81394504",
   "metadata": {},
   "outputs": [
    {
     "data": {
      "text/plain": [
       "[1, 10, 40, 30, 20]"
      ]
     },
     "execution_count": 36,
     "metadata": {},
     "output_type": "execute_result"
    }
   ],
   "source": [
    "mytree.postorder()"
   ]
  }
 ],
 "metadata": {
  "kernelspec": {
   "display_name": "Python 3",
   "language": "python",
   "name": "python3"
  },
  "language_info": {
   "codemirror_mode": {
    "name": "ipython",
    "version": 3
   },
   "file_extension": ".py",
   "mimetype": "text/x-python",
   "name": "python",
   "nbconvert_exporter": "python",
   "pygments_lexer": "ipython3",
   "version": "3.13.1"
  }
 },
 "nbformat": 4,
 "nbformat_minor": 5
}
