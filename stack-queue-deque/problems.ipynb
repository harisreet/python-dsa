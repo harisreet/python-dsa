{
 "cells": [
  {
   "cell_type": "markdown",
   "id": "bc9d5a40",
   "metadata": {},
   "source": [
    "You are keeping score for a baseball game with strange rules. The game consists of several rounds, where the scores of past rounds may affect future rounds' scores.\n",
    "\n",
    "At the beginning of the game, you start with an empty record. You are given a list of strings ops, where ops[i] is the ith operation you must apply to the record and is one of the following:\n",
    "\n",
    "An integer x - Record a new score of x.\n",
    "\"+\" - Record a new score that is the sum of the previous two scores. It is guaranteed there will always be two previous scores.\n",
    "\"D\" - Record a new score that is double the previous score. It is guaranteed there will always be a previous score.\n",
    "\"C\" - Invalidate the previous score, removing it from the record. It is guaranteed there will always be a previous score.\n",
    "Return the sum of all the scores on the record. The test cases are generated so that the answer fits in a 32-bit integer."
   ]
  },
  {
   "cell_type": "code",
   "execution_count": 4,
   "id": "2ccfc341",
   "metadata": {},
   "outputs": [
    {
     "name": "stdout",
     "output_type": "stream",
     "text": [
      "30\n"
     ]
    }
   ],
   "source": [
    "ops=[\"5\",\"2\",\"C\",\"D\",\"+\"]\n",
    "stack = []\n",
    "        \n",
    "for op in ops:\n",
    "    if op == \"+\":\n",
    "        stack.append(stack[-1] + stack[-2])\n",
    "    elif op == \"C\":\n",
    "        stack.pop()\n",
    "    elif op == \"D\":\n",
    "        stack.append(2 * stack[-1])\n",
    "    else:\n",
    "        stack.append(int(op))\n",
    "        \n",
    "print(sum(stack))"
   ]
  },
  {
   "cell_type": "markdown",
   "id": "8811a555",
   "metadata": {},
   "source": [
    "Given an array of integers temperatures represents the daily temperatures, return an array answer such that answer[i] is the number of days you have to wait after the ith day to get a warmer temperature. \n",
    "If there is no future day for which this is possible, keep answer[i] == 0 instead."
   ]
  },
  {
   "cell_type": "code",
   "execution_count": 5,
   "id": "154a8752",
   "metadata": {},
   "outputs": [
    {
     "name": "stdout",
     "output_type": "stream",
     "text": [
      "[1, 1, 4, 2, 1, 1, 0, 0]\n"
     ]
    }
   ],
   "source": [
    "temperatures = [73,74,75,71,69,72,76,73]\n",
    "result = [0] * len(temperatures) \n",
    "myStack = [] \n",
    "        \n",
    "for ix, temperature in enumerate(temperatures):\n",
    "            while myStack and temperature > myStack[-1][0]:\n",
    "                stackTemperature, stackIndex = myStack.pop()\n",
    "                result[stackIndex] = (ix - stackIndex)\n",
    "            myStack.append([temperature, ix])\n",
    "print(result)"
   ]
  }
 ],
 "metadata": {
  "kernelspec": {
   "display_name": "Python 3",
   "language": "python",
   "name": "python3"
  },
  "language_info": {
   "codemirror_mode": {
    "name": "ipython",
    "version": 3
   },
   "file_extension": ".py",
   "mimetype": "text/x-python",
   "name": "python",
   "nbconvert_exporter": "python",
   "pygments_lexer": "ipython3",
   "version": "3.13.1"
  }
 },
 "nbformat": 4,
 "nbformat_minor": 5
}
