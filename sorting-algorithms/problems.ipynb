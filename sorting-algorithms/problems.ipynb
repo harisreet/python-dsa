{
 "cells": [
  {
   "cell_type": "markdown",
   "id": "8aa15aa1",
   "metadata": {},
   "source": [
    "973. K Closest Points to Origin\n",
    "\n",
    "Given an array of points where points[i] = [xi, yi] represents a point on the X-Y plane and an integer k, return the k closest points to the origin (0, 0).\n",
    "\n",
    "The distance between two points on the X-Y plane is the Euclidean distance (i.e., √(x1 - x2)2 + (y1 - y2)2).\n",
    "\n",
    "You may return the answer in any order. The answer is guaranteed to be unique (except for the order that it is in)."
   ]
  },
  {
   "cell_type": "code",
   "execution_count": null,
   "id": "023ce7ea",
   "metadata": {
    "vscode": {
     "languageId": "plaintext"
    }
   },
   "outputs": [],
   "source": [
    "class Solution:\n",
    "    def kClosest(self, points: List[List[int]], k: int) -> List[List[int]]:\n",
    "\n",
    "        heap=[]\n",
    "\n",
    "        for x,y in points:\n",
    "            dist=(x**2)+(y**2)\n",
    "            heap.append([dist,x,y])\n",
    "\n",
    "        heapq.heapify(heap)\n",
    "\n",
    "        res=[]\n",
    "\n",
    "        while k > 0:\n",
    "            dis,x,y=heapq.heappop(heap)\n",
    "            res.append([x,y])\n",
    "            k-=1\n",
    "        \n",
    "        return res\n",
    "\n",
    "\n",
    "\n",
    "        "
   ]
  },
  {
   "cell_type": "markdown",
   "id": "334e213d",
   "metadata": {},
   "source": [
    "295.find median from the data stream\n",
    "\n",
    "The median is the middle value in an ordered integer list. If the size of the list is even, there is no middle value, and the median is the mean of the two middle values.\n",
    "\n",
    "For example, for arr = [2,3,4], the median is 3.\n",
    "For example, for arr = [2,3], the median is (2 + 3) / 2 = 2.5.\n",
    "Implement the MedianFinder class:\n",
    "\n",
    "MedianFinder() initializes the MedianFinder object.\n",
    "void addNum(int num) adds the integer num from the data stream to the data structure.\n",
    "double findMedian() returns the median of all elements so far. Answers within 10-5 of the actual answer will be accepted.\n",
    " \n",
    "\n",
    "Example 1:\n",
    "\n",
    "Input\n",
    "[\"MedianFinder\", \"addNum\", \"addNum\", \"findMedian\", \"addNum\", \"findMedian\"]\n",
    "[[], [1], [2], [], [3], []]\n",
    "Output\n",
    "[null, null, null, 1.5, null, 2.0]"
   ]
  },
  {
   "cell_type": "code",
   "execution_count": null,
   "id": "fa657c07",
   "metadata": {
    "vscode": {
     "languageId": "plaintext"
    }
   },
   "outputs": [],
   "source": [
    "class MedianFinder:\n",
    "\n",
    "    def __init__(self):\n",
    "        self.minheap=[]\n",
    "        self.maxheap=[]\n",
    "\n",
    "    def addNum(self, num: int) -> None:\n",
    "        heapq.heappush(self.minheap,-1 * num)\n",
    "\n",
    "\n",
    "        if self.minheap and self.maxheap and (-1 * self.minheap[0] > self.maxheap[0]):\n",
    "            value = -1 * heapq.heappop(self.minheap)\n",
    "            heapq.heappush(self.maxheap,value)\n",
    "\n",
    "        if len(self.minheap) > len(self.maxheap) + 1:\n",
    "            value = -1 * heapq.heappop(self.minheap)\n",
    "            heapq.heappush(self.maxheap,value)\n",
    "        \n",
    "        if len(self.maxheap) > len(self.minheap) + 1:\n",
    "            value = heapq.heappop(self.maxheap)\n",
    "            heapq.heappush(self.minheap,-1*value) \n",
    "\n",
    "        \n",
    "    def findMedian(self) -> float:\n",
    "        if len(self.minheap) > len(self.maxheap):\n",
    "            return -1 * self.minheap[0]\n",
    "        elif len(self.maxheap) > len(self.minheap):\n",
    "            return self.maxheap[0]\n",
    "        return (-1 * self.minheap[0] + self.maxheap[0])/2\n",
    "        \n",
    "\n",
    "\n",
    "# Your MedianFinder object will be instantiated and called as such:\n",
    "# obj = MedianFinder()\n",
    "# obj.addNum(num)\n",
    "# param_2 = obj.findMedian()"
   ]
  },
  {
   "cell_type": "markdown",
   "id": "4be74af6",
   "metadata": {},
   "source": [
    "895.maximum frequency stack\n",
    "\n",
    "Design a stack-like data structure to push elements to the stack and pop the most frequent element from the stack.\n",
    "\n",
    "Implement the FreqStack class:\n",
    "\n",
    "FreqStack() constructs an empty frequency stack.\n",
    "void push(int val) pushes an integer val onto the top of the stack.\n",
    "int pop() removes and returns the most frequent element in the stack.\n",
    "If there is a tie for the most frequent element, the element closest to the stack's top is removed and returned."
   ]
  },
  {
   "cell_type": "code",
   "execution_count": null,
   "id": "7c8f6bcb",
   "metadata": {
    "vscode": {
     "languageId": "plaintext"
    }
   },
   "outputs": [],
   "source": [
    "class FreqStack:\n",
    "\n",
    "    def __init__(self):\n",
    "        self.countmap={}\n",
    "        self.stack={}\n",
    "        self.freq=0\n",
    "\n",
    "    def push(self, val: int) -> None:\n",
    "        count=1 + self.countmap.get(val,0)\n",
    "        self.countmap[val]=count\n",
    "\n",
    "        if count > self.freq:\n",
    "            self.freq=count\n",
    "            self.stack[count]=[]\n",
    "        self.stack[count].append(val)\n",
    "        \n",
    "\n",
    "    def pop(self) -> int:\n",
    "        popele=self.stack[self.freq].pop()\n",
    "        self.countmap[popele]-=1\n",
    "\n",
    "        if not self.stack[self.freq]:\n",
    "            self.freq-=1\n",
    "        return popele\n",
    "        \n",
    "\n",
    "\n",
    "# Your FreqStack object will be instantiated and called as such:\n",
    "# obj = FreqStack()\n",
    "# obj.push(val)\n",
    "# param_2 = obj.pop()"
   ]
  }
 ],
 "metadata": {
  "language_info": {
   "name": "python"
  }
 },
 "nbformat": 4,
 "nbformat_minor": 5
}
