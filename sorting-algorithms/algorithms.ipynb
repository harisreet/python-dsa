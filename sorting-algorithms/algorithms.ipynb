{
 "cells": [
  {
   "cell_type": "code",
   "execution_count": 1,
   "id": "9e9106fd",
   "metadata": {},
   "outputs": [],
   "source": [
    "class algorithms:\n",
    "\n",
    "    def bubblesort(self,l):\n",
    "\n",
    "        for i in range(len(l)):\n",
    "            for j in range(i+1,len(l)):\n",
    "                if l[i] > l[j]:\n",
    "                    l[i],l[j]=l[j],l[i]\n",
    "        print(l)\n"
   ]
  },
  {
   "cell_type": "code",
   "execution_count": 3,
   "id": "d3fc96e0",
   "metadata": {},
   "outputs": [
    {
     "name": "stdout",
     "output_type": "stream",
     "text": [
      "['1', '10', '23', '3', '33', '6', '9']\n"
     ]
    }
   ],
   "source": [
    "arr=['10','6','3','9','23','33','1']\n",
    "\n",
    "a = algorithms()\n",
    "a.bubblesort(arr)"
   ]
  }
 ],
 "metadata": {
  "kernelspec": {
   "display_name": "Python 3",
   "language": "python",
   "name": "python3"
  },
  "language_info": {
   "codemirror_mode": {
    "name": "ipython",
    "version": 3
   },
   "file_extension": ".py",
   "mimetype": "text/x-python",
   "name": "python",
   "nbconvert_exporter": "python",
   "pygments_lexer": "ipython3",
   "version": "3.13.1"
  }
 },
 "nbformat": 4,
 "nbformat_minor": 5
}
