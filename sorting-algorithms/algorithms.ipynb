{
 "cells": [
  {
   "cell_type": "code",
   "execution_count": 155,
   "id": "9e9106fd",
   "metadata": {},
   "outputs": [],
   "source": [
    "class algorithms:\n",
    "\n",
    "    def bubblesort(self,l):\n",
    "\n",
    "        for i in range(len(l)-1,-1,-1):\n",
    "            for j in range(i):\n",
    "                if l[j] > l[j+1]:\n",
    "                    l[j],l[j+1]=l[j+1],l[j]\n",
    "\n",
    "    def selectionsort(self,l):\n",
    "\n",
    "        for i in range(len(l)):\n",
    "            small=i\n",
    "            for j in range(i+1,len(l)):\n",
    "                if l[small] > l[j]:\n",
    "                    small=j\n",
    "            l[small],l[i]=l[i],l[small]\n",
    "\n",
    "    def insertionsort(self,l):\n",
    "\n",
    "        for i in range(1,len(l)):\n",
    "            key=l[i]\n",
    "            j=i-1\n",
    "\n",
    "            while key < l[j] and j >= 0:\n",
    "                l[j+1]=l[j]\n",
    "                j=j-1\n",
    "            l[j+1]=key\n",
    "\n",
    "    def mergesort(self,l):\n",
    "        if len(l)==1:\n",
    "            return l \n",
    "        mid=len(l)//2\n",
    "        left=l[:mid]\n",
    "        right=l[mid:]\n",
    "        return self.__merge(self.mergesort(left),self.mergesort(right))\n",
    "\n",
    "    def __merge(self,left,right):\n",
    "        \n",
    "        i=j=0\n",
    "        l=[]\n",
    "        ln=len(left)\n",
    "        rn=len(right)\n",
    "\n",
    "        while i < ln and j < rn:\n",
    "\n",
    "            if left[i] > right[j]:\n",
    "                l.append(right[j])\n",
    "                j=j+1\n",
    "            else:\n",
    "                l.append(left[i])\n",
    "                i=i+1\n",
    "\n",
    "        while j<rn:\n",
    "            l.append(right[j])\n",
    "            j=j+1\n",
    "\n",
    "        while i < ln:\n",
    "            l.append(left[i])\n",
    "            i=i+1\n",
    "        \n",
    "        return l \n",
    "    \n",
    "    def quicksort(self,l,low,high):\n",
    "        if low < high:\n",
    "            p=self.__partition(l,low,high)\n",
    "            self.quicksort(l,low,p)\n",
    "            self.quicksort(l,p+1,high)\n",
    "    \n",
    "    def __partition(self,l,low,high):\n",
    "        pivot=l[low]\n",
    "\n",
    "        i=low-1\n",
    "        j=high+1\n",
    "\n",
    "        while True:\n",
    "            i+=1\n",
    "            while l[i] < pivot:\n",
    "                i+=1\n",
    "            \n",
    "            j-=1\n",
    "            while l[j] > pivot:\n",
    "                j-=1\n",
    "            \n",
    "\n",
    "            if i>=j:\n",
    "                return j\n",
    "            l[i],l[j]=l[j],l[i]\n",
    "\n",
    "\n",
    "\n",
    "    def heapsort(self,l):\n",
    "        \n",
    "        n=len(l)\n",
    "\n",
    "        for i in range(n//2-1,-1,-1):\n",
    "            self.heapify(l,n,i)\n",
    "\n",
    "        for i in range(n-1,0,-1):\n",
    "            l[i],l[0]=l[0],l[i]\n",
    "            self.heapify(l,i,0)\n",
    "\n",
    "    def heapify(self,l,n,i):\n",
    "        largest=i\n",
    "        left= 2*i + 1\n",
    "        right= 2*i +2\n",
    "\n",
    "        if left < n and l[left] > l[largest]:\n",
    "            largest=left\n",
    "        \n",
    "        if right < n and l[right] > l[largest]:\n",
    "            largest=right\n",
    "\n",
    "        if largest!=i:\n",
    "            l[largest],l[i]=l[i],l[largest]\n",
    "            self.heapify(l,n,largest)\n",
    "\n"
   ]
  },
  {
   "cell_type": "code",
   "execution_count": 156,
   "id": "d3fc96e0",
   "metadata": {},
   "outputs": [
    {
     "name": "stdout",
     "output_type": "stream",
     "text": [
      "[1, 5, 8, 10, 12, 21, 26, 45, 60, 90, 100]\n"
     ]
    }
   ],
   "source": [
    "arr=[100,26,90,12,10,60,45,5,8,1,21]\n",
    "\n",
    "a = algorithms()\n",
    "a.bubblesort(arr)\n",
    "print(arr)"
   ]
  },
  {
   "cell_type": "code",
   "execution_count": 157,
   "id": "87f6b7fe",
   "metadata": {},
   "outputs": [
    {
     "name": "stdout",
     "output_type": "stream",
     "text": [
      "[1, 5, 8, 10, 12, 21, 26, 45, 60, 90, 100]\n"
     ]
    }
   ],
   "source": [
    "arr=[100,26,90,12,10,60,45,5,8,1,21]\n",
    "a.selectionsort(arr)\n",
    "print(arr)"
   ]
  },
  {
   "cell_type": "code",
   "execution_count": 158,
   "id": "66179f05",
   "metadata": {},
   "outputs": [
    {
     "name": "stdout",
     "output_type": "stream",
     "text": [
      "[1, 5, 8, 10, 12, 21, 26, 45, 60, 90, 100]\n"
     ]
    }
   ],
   "source": [
    "arr=[100,26,90,12,10,60,45,5,8,1,21]\n",
    "a.insertionsort(arr)\n",
    "print(arr)"
   ]
  },
  {
   "cell_type": "code",
   "execution_count": 159,
   "id": "6641cd8e",
   "metadata": {},
   "outputs": [
    {
     "name": "stdout",
     "output_type": "stream",
     "text": [
      "[1, 5, 8, 10, 12, 21, 26, 45, 60, 90, 100]\n"
     ]
    }
   ],
   "source": [
    "arr=[100,26,90,12,10,60,45,5,8,1,21]\n",
    "print(a.mergesort(arr))"
   ]
  },
  {
   "cell_type": "code",
   "execution_count": 160,
   "id": "918e5687",
   "metadata": {},
   "outputs": [
    {
     "name": "stdout",
     "output_type": "stream",
     "text": [
      "[1, 5, 8, 10, 12, 21, 26, 45, 60, 90, 100]\n"
     ]
    }
   ],
   "source": [
    "arr=[100,26,90,12,10,60,45,5,8,1,21]\n",
    "a.quicksort(arr,0,len(arr)-1)\n",
    "print(arr)"
   ]
  },
  {
   "cell_type": "code",
   "execution_count": 161,
   "id": "57df3900",
   "metadata": {},
   "outputs": [
    {
     "name": "stdout",
     "output_type": "stream",
     "text": [
      "[1, 5, 8, 10, 12, 21, 26, 45, 60, 90, 100]\n"
     ]
    }
   ],
   "source": [
    "arr=[100,26,90,12,10,60,45,5,8,1,21]\n",
    "a.heapsort(arr)\n",
    "print(arr)"
   ]
  }
 ],
 "metadata": {
  "kernelspec": {
   "display_name": "Python 3",
   "language": "python",
   "name": "python3"
  },
  "language_info": {
   "codemirror_mode": {
    "name": "ipython",
    "version": 3
   },
   "file_extension": ".py",
   "mimetype": "text/x-python",
   "name": "python",
   "nbconvert_exporter": "python",
   "pygments_lexer": "ipython3",
   "version": "3.13.1"
  }
 },
 "nbformat": 4,
 "nbformat_minor": 5
}
