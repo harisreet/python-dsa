{
 "cells": [
  {
   "cell_type": "code",
   "execution_count": 12,
   "id": "6063f28e",
   "metadata": {},
   "outputs": [],
   "source": [
    "class graph:\n",
    "\n",
    "    def __init__(self):\n",
    "        self.adjdict={}\n",
    "\n",
    "    def addvertex(self,vertex):\n",
    "        if vertex not in self.adjdict.keys():\n",
    "            self.adjdict[vertex] = []\n",
    "            return True\n",
    "        return False\n",
    "\n",
    "    def addedge(self,v1,v2):\n",
    "        if v1 in self.adjdict.keys() and v2 in self.adjdict.keys():\n",
    "            self.adjdict[v1].append(v2)\n",
    "            self.adjdict[v2].append(v1)\n",
    "            return True\n",
    "        return False\n",
    "\n",
    "    def printgraph(self):\n",
    "        for i in self.adjdict:\n",
    "            print(i , \" -> \" , self.adjdict[i])\n",
    "\n",
    "    def deletevertex(self,vertex):\n",
    "        if vertex in self.adjdict.keys():\n",
    "            for relative in self.adjdict[vertex]:\n",
    "                self.adjdict[relative].remove(vertex)\n",
    "            del self.adjdict[vertex]\n",
    "            return True\n",
    "        return False\n",
    "\n",
    "    def deleteedge(self,v1,v2):\n",
    "        if v1 in self.adjdict.keys() and v2 in self.adjdict.keys():\n",
    "            self.adjdict[v1].remove(v2)\n",
    "            self.adjdict[v2].remove(v1)\n",
    "            return True\n",
    "        return False\n",
    "\n"
   ]
  },
  {
   "cell_type": "code",
   "execution_count": 13,
   "id": "0c67dc21",
   "metadata": {},
   "outputs": [],
   "source": [
    "g=graph()"
   ]
  },
  {
   "cell_type": "code",
   "execution_count": 14,
   "id": "cc8f3729",
   "metadata": {},
   "outputs": [
    {
     "name": "stdout",
     "output_type": "stream",
     "text": [
      "abc  ->  ['def', 'jkl', 'ghi']\n",
      "def  ->  ['abc', 'jkl', 'ghi']\n",
      "ghi  ->  ['def', 'abc']\n",
      "jkl  ->  ['def', 'abc']\n"
     ]
    }
   ],
   "source": [
    "g.addvertex('abc')\n",
    "g.addvertex('def')\n",
    "g.addvertex('ghi')\n",
    "g.addvertex('jkl')\n",
    "\n",
    "g.addedge('abc','def')\n",
    "g.addedge('jkl','def')\n",
    "g.addedge('ghi','def')\n",
    "g.addedge('abc','jkl')\n",
    "g.addedge('abc','ghi')\n",
    "\n",
    "g.printgraph()"
   ]
  },
  {
   "cell_type": "code",
   "execution_count": 15,
   "id": "7125e137",
   "metadata": {},
   "outputs": [
    {
     "data": {
      "text/plain": [
       "True"
      ]
     },
     "execution_count": 15,
     "metadata": {},
     "output_type": "execute_result"
    }
   ],
   "source": [
    "g.deletevertex('jkl')"
   ]
  },
  {
   "cell_type": "code",
   "execution_count": 16,
   "id": "a62d4096",
   "metadata": {},
   "outputs": [
    {
     "name": "stdout",
     "output_type": "stream",
     "text": [
      "abc  ->  ['def', 'ghi']\n",
      "def  ->  ['abc', 'ghi']\n",
      "ghi  ->  ['def', 'abc']\n"
     ]
    }
   ],
   "source": [
    "g.printgraph()"
   ]
  },
  {
   "cell_type": "code",
   "execution_count": 17,
   "id": "50f9c74a",
   "metadata": {},
   "outputs": [
    {
     "name": "stdout",
     "output_type": "stream",
     "text": [
      "abc  ->  ['def']\n",
      "def  ->  ['abc', 'ghi']\n",
      "ghi  ->  ['def']\n"
     ]
    }
   ],
   "source": [
    "g.deleteedge('abc','ghi')\n",
    "g.printgraph()"
   ]
  }
 ],
 "metadata": {
  "kernelspec": {
   "display_name": "Python 3",
   "language": "python",
   "name": "python3"
  },
  "language_info": {
   "codemirror_mode": {
    "name": "ipython",
    "version": 3
   },
   "file_extension": ".py",
   "mimetype": "text/x-python",
   "name": "python",
   "nbconvert_exporter": "python",
   "pygments_lexer": "ipython3",
   "version": "3.13.1"
  }
 },
 "nbformat": 4,
 "nbformat_minor": 5
}
