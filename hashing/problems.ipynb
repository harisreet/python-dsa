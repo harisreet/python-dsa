{
 "cells": [
  {
   "cell_type": "markdown",
   "id": "bc394f67",
   "metadata": {},
   "source": [
    "554. Brick Wall\n",
    "\n",
    "There is a rectangular brick wall in front of you with n rows of bricks. The ith row has some number of bricks each of the same height (i.e., one unit) but they can be of different widths. The total width of each row is the same.\n",
    "\n",
    "Draw a vertical line from the top to the bottom and cross the least bricks. If your line goes through the edge of a brick, then the brick is not considered as crossed. You cannot draw a line just along one of the two vertical edges of the wall, in which case the line will obviously cross no bricks.\n",
    "\n",
    "Given the 2D array wall that contains the information about the wall, return the minimum number of crossed bricks after drawing such a vertical line.\n",
    "\n",
    " "
   ]
  },
  {
   "cell_type": "code",
   "execution_count": null,
   "id": "afa8bedb",
   "metadata": {
    "vscode": {
     "languageId": "plaintext"
    }
   },
   "outputs": [],
   "source": [
    "class Solution:\n",
    "    def leastBricks(self, wall: List[List[int]]) -> int:\n",
    "\n",
    "        hashmap={0:0}\n",
    "\n",
    "        for row in wall:\n",
    "            gapcount=0\n",
    "\n",
    "            for brick in row[:-1]:\n",
    "                gapcount+=brick\n",
    "                hashmap[gapcount] = 1 + hashmap.get(gapcount,0)\n",
    "\n",
    "        maxgap=max(hashmap.values())\n",
    "        return len(wall) - maxgap\n",
    "        "
   ]
  },
  {
   "cell_type": "markdown",
   "id": "9a45d73a",
   "metadata": {},
   "source": [
    "535. Encode and Decode TinyURL\n",
    "\n",
    "TinyURL is a URL shortening service where you enter a URL such as https://leetcode.com/problems/design-tinyurl and it returns a short URL such as http://tinyurl.com/4e9iAk. Design a class to encode a URL and decode a tiny URL.\n",
    "\n",
    "There is no restriction on how your encode/decode algorithm should work. You just need to ensure that a URL can be encoded to a tiny URL and the tiny URL can be decoded to the original URL.\n",
    "\n",
    "Implement the Solution class:\n",
    "\n",
    "Solution() Initializes the object of the system.\n",
    "String encode(String longUrl) Returns a tiny URL for the given longUrl.\n",
    "String decode(String shortUrl) Returns the original long URL for the given shortUrl. It is guaranteed that the given shortUrl was encoded by the same object.\n",
    " \n",
    "\n",
    "Example 1:\n",
    "\n",
    "Input: url = \"https://leetcode.com/problems/design-tinyurl\"\n",
    "Output: \"https://leetcode.com/problems/design-tinyurl\""
   ]
  },
  {
   "cell_type": "code",
   "execution_count": null,
   "id": "9d08a106",
   "metadata": {
    "vscode": {
     "languageId": "plaintext"
    }
   },
   "outputs": [],
   "source": [
    "class Codec:\n",
    "    \n",
    "    def __init__(self):\n",
    "        self.encodingMap = {}\n",
    "        self.decodingMap = {}\n",
    "        self.baseUrl = \"https://tinyurl.com/\"\n",
    "\n",
    "    def encode(self, longUrl: str) -> str:\n",
    "        if longUrl not in self.encodingMap:\n",
    "            shortUrl = self.baseUrl + str(len(self.encodingMap) + 1)\n",
    "            self.encodingMap[longUrl] = shortUrl\n",
    "            self.decodingMap[shortUrl] = longUrl\n",
    "        return self.encodingMap[longUrl]\n",
    "        \n",
    "\n",
    "    def decode(self, shortUrl: str) -> str:\n",
    "        return self.decodingMap[shortUrl]\n",
    "\n",
    "# Your Codec object will be instantiated and called as such:\n",
    "# codec = Codec()\n",
    "# codec.decode(codec.encode(url))"
   ]
  },
  {
   "cell_type": "markdown",
   "id": "20a55d38",
   "metadata": {},
   "source": [
    "1. Two Sum\n",
    "\n",
    "Given an array of integers nums and an integer target, return indices of the two numbers such that they add up to target.\n",
    "\n",
    "You may assume that each input would have exactly one solution, and you may not use the same element twice.\n",
    "\n",
    "You can return the answer in any order."
   ]
  },
  {
   "cell_type": "code",
   "execution_count": null,
   "id": "b6e04a27",
   "metadata": {
    "vscode": {
     "languageId": "plaintext"
    }
   },
   "outputs": [],
   "source": [
    "class Solution:\n",
    "    def twoSum(self, nums: List[int], target: int) -> List[int]:\n",
    "        hashmap={}\n",
    "\n",
    "        for idx , num in enumerate(nums):\n",
    "            diff = target - num\n",
    "            if diff in hashmap:\n",
    "                return [hashmap[diff],idx]\n",
    "            hashmap[num]=idx\n",
    "        \n",
    "\n",
    "        "
   ]
  }
 ],
 "metadata": {
  "language_info": {
   "name": "python"
  }
 },
 "nbformat": 4,
 "nbformat_minor": 5
}
