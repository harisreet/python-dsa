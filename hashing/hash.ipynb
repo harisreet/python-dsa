{
 "cells": [
  {
   "cell_type": "code",
   "execution_count": 1,
   "id": "7f63651a",
   "metadata": {},
   "outputs": [],
   "source": [
    "def hashFunction(key):\n",
    "    myHash = 0\n",
    "    for letter in key:\n",
    "        myHash = (myHash + ord(letter) * 19)\n",
    "    return myHash  "
   ]
  },
  {
   "cell_type": "code",
   "execution_count": 2,
   "id": "447afa7b",
   "metadata": {},
   "outputs": [
    {
     "data": {
      "text/plain": [
       "10070"
      ]
     },
     "execution_count": 2,
     "metadata": {},
     "output_type": "execute_result"
    }
   ],
   "source": [
    "hashFunction(\"apple\")"
   ]
  },
  {
   "cell_type": "code",
   "execution_count": 3,
   "id": "6bd3ebd4",
   "metadata": {},
   "outputs": [],
   "source": [
    "#https://realpython.com/python-hash-table/\n",
    "\n",
    "def hashFunction(key):\n",
    "        return sum(\n",
    "            index * ord(character)\n",
    "            for index, character in enumerate(repr(key).lstrip(\"'\"), 1)\n",
    "        )"
   ]
  },
  {
   "cell_type": "code",
   "execution_count": 4,
   "id": "6f21b6e1",
   "metadata": {},
   "outputs": [
    {
     "data": {
      "text/plain": [
       "1828"
      ]
     },
     "execution_count": 4,
     "metadata": {},
     "output_type": "execute_result"
    }
   ],
   "source": [
    "hashFunction(\"apple\")"
   ]
  },
  {
   "cell_type": "code",
   "execution_count": 5,
   "id": "eb0999ff",
   "metadata": {},
   "outputs": [],
   "source": [
    "class HashTable:\n",
    "    def __init__(self, size = 13):\n",
    "        self.dataMap = [None] * size\n",
    "     \n",
    "    def hashFunction(self, key):\n",
    "        myHash = 0\n",
    "        for letter in key:\n",
    "            myHash = (myHash + ord(letter) * 19) % len(self.dataMap)\n",
    "        return myHash  \n",
    "     \n",
    "    def setItem(self, key, value):\n",
    "        index = self.hashFunction(key)\n",
    "        if self.dataMap[index] == None:\n",
    "            self.dataMap[index] = []\n",
    "        self.dataMap[index].append([key, value])\n",
    "   \n",
    "    def getItem(self, key):\n",
    "        index = self.hashFunction(key)\n",
    "        if self.dataMap[index] is not None:\n",
    "            for i in range(len(self.dataMap[index])):\n",
    "                if self.dataMap[index][i][0] == key:\n",
    "                    return self.dataMap[index][i][1]\n",
    "        return None\n",
    "\n",
    "    def getKeys(self):\n",
    "        keys = []\n",
    "        for i in range(len(self.dataMap)):\n",
    "            if self.dataMap[i] is not None:\n",
    "                for j in range(len(self.dataMap[i])):\n",
    "                    keys.append(self.dataMap[i][j][0])\n",
    "        return keys\n",
    "       \n",
    "    def printTable(self):\n",
    "        for index, value in enumerate(self.dataMap):\n",
    "            print(index, \"-> \", value)"
   ]
  },
  {
   "cell_type": "code",
   "execution_count": 6,
   "id": "ef26ef1b",
   "metadata": {},
   "outputs": [
    {
     "name": "stdout",
     "output_type": "stream",
     "text": [
      "0 ->  [['Melon', 250]]\n",
      "1 ->  None\n",
      "2 ->  None\n",
      "3 ->  None\n",
      "4 ->  [['Banana', 150]]\n",
      "5 ->  None\n",
      "6 ->  None\n",
      "7 ->  None\n",
      "8 ->  None\n",
      "9 ->  None\n",
      "10 ->  None\n",
      "11 ->  [['Apple', 100]]\n",
      "12 ->  None\n"
     ]
    }
   ],
   "source": [
    "myHashTable = HashTable()\n",
    "\n",
    "myHashTable.setItem('Apple', 100)\n",
    "myHashTable.setItem('Banana', 150)\n",
    "myHashTable.setItem('Melon', 250)\n",
    "\n",
    "myHashTable.printTable()"
   ]
  },
  {
   "cell_type": "code",
   "execution_count": 7,
   "id": "1b03fd27",
   "metadata": {},
   "outputs": [
    {
     "name": "stdout",
     "output_type": "stream",
     "text": [
      "0 ->  [['Melon', 250], ['Lemon', 150]]\n",
      "1 ->  [['Strawberry', 100]]\n",
      "2 ->  None\n",
      "3 ->  None\n",
      "4 ->  [['Banana', 150]]\n",
      "5 ->  None\n",
      "6 ->  [['Watermelon', 300]]\n",
      "7 ->  None\n",
      "8 ->  None\n",
      "9 ->  None\n",
      "10 ->  None\n",
      "11 ->  [['Apple', 100]]\n",
      "12 ->  None\n"
     ]
    }
   ],
   "source": [
    "myHashTable.setItem('Watermelon', 300)\n",
    "myHashTable.setItem('Strawberry', 100)\n",
    "myHashTable.setItem('Lemon', 150)\n",
    "\n",
    "myHashTable.printTable()"
   ]
  },
  {
   "cell_type": "code",
   "execution_count": 8,
   "id": "cd81aa2c",
   "metadata": {},
   "outputs": [
    {
     "data": {
      "text/plain": [
       "150"
      ]
     },
     "execution_count": 8,
     "metadata": {},
     "output_type": "execute_result"
    }
   ],
   "source": [
    "myHashTable.getItem(\"Lemon\")"
   ]
  },
  {
   "cell_type": "code",
   "execution_count": 9,
   "id": "149f5ebf",
   "metadata": {},
   "outputs": [
    {
     "data": {
      "text/plain": [
       "250"
      ]
     },
     "execution_count": 9,
     "metadata": {},
     "output_type": "execute_result"
    }
   ],
   "source": [
    "myHashTable.getItem(\"Melon\")"
   ]
  },
  {
   "cell_type": "code",
   "execution_count": 10,
   "id": "4d511b8a",
   "metadata": {},
   "outputs": [
    {
     "data": {
      "text/plain": [
       "['Melon', 'Lemon', 'Strawberry', 'Banana', 'Watermelon', 'Apple']"
      ]
     },
     "execution_count": 10,
     "metadata": {},
     "output_type": "execute_result"
    }
   ],
   "source": [
    "myHashTable.getKeys()"
   ]
  },
  {
   "cell_type": "code",
   "execution_count": 11,
   "id": "8246db1a",
   "metadata": {},
   "outputs": [
    {
     "name": "stdout",
     "output_type": "stream",
     "text": [
      "0 ->  [['Melon', 250], ['Lemon', 150]]\n",
      "1 ->  [['Strawberry', 100]]\n",
      "2 ->  None\n",
      "3 ->  None\n",
      "4 ->  [['Banana', 150]]\n",
      "5 ->  None\n",
      "6 ->  [['Watermelon', 300]]\n",
      "7 ->  None\n",
      "8 ->  [['Doner', 500]]\n",
      "9 ->  None\n",
      "10 ->  None\n",
      "11 ->  [['Apple', 100]]\n",
      "12 ->  None\n"
     ]
    }
   ],
   "source": [
    "myHashTable.setItem(\"Doner\",500)\n",
    "myHashTable.printTable()"
   ]
  },
  {
   "cell_type": "code",
   "execution_count": 12,
   "id": "16b981a7",
   "metadata": {},
   "outputs": [],
   "source": [
    "class HashTable:\n",
    "    def __init__(self, size = 13):\n",
    "        self.dataMap = [None] * size\n",
    "          \n",
    "    def hashFunction(self,key):\n",
    "        return sum(\n",
    "            index * ord(character)\n",
    "            for index, character in enumerate(repr(key).lstrip(\"'\"), 1)\n",
    "        ) % len(self.dataMap)\n",
    "\n",
    "    def setItem(self, key, value):\n",
    "        index = self.hashFunction(key)\n",
    "        if self.dataMap[index] == None:\n",
    "            self.dataMap[index] = []\n",
    "        self.dataMap[index].append([key, value])\n",
    "   \n",
    "    def getItem(self, key):\n",
    "        index = self.hashFunction(key)\n",
    "        if self.dataMap[index] is not None:\n",
    "            for i in range(len(self.dataMap[index])):\n",
    "                if self.dataMap[index][i][0] == key:\n",
    "                    return self.dataMap[index][i][1]\n",
    "        return None\n",
    "\n",
    "    def getKeys(self):\n",
    "        keys = []\n",
    "        for i in range(len(self.dataMap)):\n",
    "            if self.dataMap[i] is not None:\n",
    "                for j in range(len(self.dataMap[i])):\n",
    "                    keys.append(self.dataMap[i][j][0])\n",
    "        return keys\n",
    "       \n",
    "    def printTable(self):\n",
    "        for index, value in enumerate(self.dataMap):\n",
    "            print(index, \"-> \", value)"
   ]
  },
  {
   "cell_type": "code",
   "execution_count": 13,
   "id": "2564653d",
   "metadata": {},
   "outputs": [
    {
     "name": "stdout",
     "output_type": "stream",
     "text": [
      "0 ->  None\n",
      "1 ->  None\n",
      "2 ->  [['Apple', 100]]\n",
      "3 ->  None\n",
      "4 ->  [['Banana', 150]]\n",
      "5 ->  None\n",
      "6 ->  None\n",
      "7 ->  None\n",
      "8 ->  None\n",
      "9 ->  None\n",
      "10 ->  None\n",
      "11 ->  [['Melon', 250]]\n",
      "12 ->  None\n"
     ]
    }
   ],
   "source": [
    "myHashTable = HashTable()\n",
    "\n",
    "myHashTable.setItem('Apple', 100)\n",
    "myHashTable.setItem('Banana', 150)\n",
    "myHashTable.setItem('Melon', 250)\n",
    "\n",
    "myHashTable.printTable()"
   ]
  },
  {
   "cell_type": "code",
   "execution_count": 14,
   "id": "bbc22efe",
   "metadata": {},
   "outputs": [
    {
     "name": "stdout",
     "output_type": "stream",
     "text": [
      "0 ->  [['Lemon', 150]]\n",
      "1 ->  None\n",
      "2 ->  [['Apple', 100]]\n",
      "3 ->  None\n",
      "4 ->  [['Banana', 150]]\n",
      "5 ->  None\n",
      "6 ->  None\n",
      "7 ->  None\n",
      "8 ->  None\n",
      "9 ->  None\n",
      "10 ->  None\n",
      "11 ->  [['Melon', 250]]\n",
      "12 ->  [['Watermelon', 300], ['Strawberry', 100]]\n"
     ]
    }
   ],
   "source": [
    "myHashTable.setItem('Watermelon', 300)\n",
    "myHashTable.setItem('Strawberry', 100)\n",
    "myHashTable.setItem('Lemon', 150)\n",
    "\n",
    "myHashTable.printTable()"
   ]
  },
  {
   "cell_type": "code",
   "execution_count": 15,
   "id": "26997b3d",
   "metadata": {},
   "outputs": [
    {
     "data": {
      "text/plain": [
       "150"
      ]
     },
     "execution_count": 15,
     "metadata": {},
     "output_type": "execute_result"
    }
   ],
   "source": [
    "myHashTable.getItem(\"Lemon\")"
   ]
  },
  {
   "cell_type": "code",
   "execution_count": 16,
   "id": "4012dcd9",
   "metadata": {},
   "outputs": [
    {
     "data": {
      "text/plain": [
       "250"
      ]
     },
     "execution_count": 16,
     "metadata": {},
     "output_type": "execute_result"
    }
   ],
   "source": [
    "myHashTable.getItem(\"Melon\")"
   ]
  },
  {
   "cell_type": "code",
   "execution_count": 17,
   "id": "6cf4cdb0",
   "metadata": {},
   "outputs": [
    {
     "data": {
      "text/plain": [
       "['Lemon', 'Apple', 'Banana', 'Melon', 'Watermelon', 'Strawberry']"
      ]
     },
     "execution_count": 17,
     "metadata": {},
     "output_type": "execute_result"
    }
   ],
   "source": [
    "myHashTable.getKeys()"
   ]
  },
  {
   "cell_type": "code",
   "execution_count": 18,
   "id": "e33624ed",
   "metadata": {},
   "outputs": [
    {
     "name": "stdout",
     "output_type": "stream",
     "text": [
      "0 ->  [['Lemon', 150]]\n",
      "1 ->  None\n",
      "2 ->  [['Apple', 100]]\n",
      "3 ->  None\n",
      "4 ->  [['Banana', 150]]\n",
      "5 ->  None\n",
      "6 ->  None\n",
      "7 ->  None\n",
      "8 ->  [['Doner', 500]]\n",
      "9 ->  None\n",
      "10 ->  None\n",
      "11 ->  [['Melon', 250]]\n",
      "12 ->  [['Watermelon', 300], ['Strawberry', 100]]\n"
     ]
    }
   ],
   "source": [
    "myHashTable.setItem(\"Doner\",500)\n",
    "myHashTable.printTable()"
   ]
  }
 ],
 "metadata": {
  "kernelspec": {
   "display_name": "Python 3",
   "language": "python",
   "name": "python3"
  },
  "language_info": {
   "codemirror_mode": {
    "name": "ipython",
    "version": 3
   },
   "file_extension": ".py",
   "mimetype": "text/x-python",
   "name": "python",
   "nbconvert_exporter": "python",
   "pygments_lexer": "ipython3",
   "version": "3.13.1"
  }
 },
 "nbformat": 4,
 "nbformat_minor": 5
}
