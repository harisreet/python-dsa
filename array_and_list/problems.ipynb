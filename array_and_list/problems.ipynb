{
 "cells": [
  {
   "cell_type": "code",
   "execution_count": null,
   "id": "ab02e605",
   "metadata": {},
   "outputs": [],
   "source": [
    "'''\n",
    "contains duplicates\n",
    "Given an integer array nums, return true if any value appears at least twice in the array, and return false if every element is distinct.\n",
    "\n",
    "'''\n"
   ]
  },
  {
   "cell_type": "code",
   "execution_count": null,
   "id": "057974af",
   "metadata": {},
   "outputs": [
    {
     "name": "stdout",
     "output_type": "stream",
     "text": [
      "False\n"
     ]
    }
   ],
   "source": [
    "l=[1,3,4,1,5]\n",
    "\n",
    "# set - unique\n",
    "print(len(l) == len(set(l)))\n",
    "\n",
    "'''\n",
    "hashSet = set()\n",
    "        \n",
    "for num in l:\n",
    "    if num in hashSet:\n",
    "        return True\n",
    "    hashSet.add(num)\n",
    "    return False\n",
    "'''\n",
    "        "
   ]
  },
  {
   "cell_type": "markdown",
   "id": "1130578b",
   "metadata": {},
   "source": [
    "'''\n",
    "\n",
    "Given a non-empty array of integers nums, every element appears twice except for one. Find that single one.\n",
    "\n",
    "You must implement a solution with a linear runtime complexity and use only constant extra space.\n",
    "\n",
    "'''"
   ]
  },
  {
   "cell_type": "code",
   "execution_count": null,
   "id": "69899b52",
   "metadata": {},
   "outputs": [
    {
     "data": {
      "text/plain": [
       "6"
      ]
     },
     "execution_count": 9,
     "metadata": {},
     "output_type": "execute_result"
    }
   ],
   "source": [
    "list=[2,3,6,3,2]\n",
    "\n",
    "#bit manipulation\n",
    "res=0\n",
    "for i in list:\n",
    "    res = i ^ res\n",
    "\n",
    "res\n"
   ]
  },
  {
   "cell_type": "markdown",
   "id": "2497bcb0",
   "metadata": {},
   "source": [
    "'''\n",
    "Given an array nums of size n, return the majority element.\n",
    "\n",
    "The majority element is the element that appears more than ⌊n / 2⌋ times. You may assume that the majority element always exists in the array.\n",
    "\n",
    "'''"
   ]
  },
  {
   "cell_type": "code",
   "execution_count": 12,
   "id": "43235082",
   "metadata": {},
   "outputs": [
    {
     "data": {
      "text/plain": [
       "1"
      ]
     },
     "execution_count": 12,
     "metadata": {},
     "output_type": "execute_result"
    }
   ],
   "source": [
    "#boyer-moore algorithm for O(1) space\n",
    "mylist=[1,1,4,4,4,1,1,1,3,2]\n",
    "def majorityElement(nums):\n",
    "        result = 0\n",
    "        count = 0\n",
    "        for num in nums:\n",
    "            if count == 0:\n",
    "                result = num\n",
    "            count += 1 if num == result else -1\n",
    "        return result\n",
    "\n",
    "majorityElement(mylist)"
   ]
  },
  {
   "cell_type": "code",
   "execution_count": 13,
   "id": "9dfc069b",
   "metadata": {},
   "outputs": [
    {
     "data": {
      "text/plain": [
       "1"
      ]
     },
     "execution_count": 13,
     "metadata": {},
     "output_type": "execute_result"
    }
   ],
   "source": [
    "# solution below is O(n) for time and space. \n",
    "def majorityElement(nums):\n",
    "        count = {}\n",
    "        result = 0\n",
    "        maxCount = 0\n",
    "\n",
    "        for num in nums:\n",
    "            count[num] = 1 + count.get(num,0)\n",
    "            if count[num] > maxCount:\n",
    "                result = num\n",
    "            maxCount = max(maxCount,count[num])\n",
    "        return result\n",
    "mylist=[1,1,4,4,4,1,1,1,3,2]\n",
    "majorityElement(mylist)\n"
   ]
  }
 ],
 "metadata": {
  "kernelspec": {
   "display_name": "Python 3",
   "language": "python",
   "name": "python3"
  },
  "language_info": {
   "codemirror_mode": {
    "name": "ipython",
    "version": 3
   },
   "file_extension": ".py",
   "mimetype": "text/x-python",
   "name": "python",
   "nbconvert_exporter": "python",
   "pygments_lexer": "ipython3",
   "version": "3.13.1"
  }
 },
 "nbformat": 4,
 "nbformat_minor": 5
}
