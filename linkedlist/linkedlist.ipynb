{
 "cells": [
  {
   "cell_type": "code",
   "execution_count": 4,
   "id": "df2f4047",
   "metadata": {},
   "outputs": [],
   "source": [
    "#Singly Linked List"
   ]
  },
  {
   "cell_type": "code",
   "execution_count": 5,
   "id": "44ac41c5",
   "metadata": {},
   "outputs": [],
   "source": [
    "class Node():\n",
    "    \n",
    "    def __init__(self,value):\n",
    "        \n",
    "        self.value = value\n",
    "        self.nextNode = None"
   ]
  },
  {
   "cell_type": "code",
   "execution_count": 6,
   "id": "40259cf5",
   "metadata": {},
   "outputs": [
    {
     "data": {
      "text/plain": [
       "30"
      ]
     },
     "execution_count": 6,
     "metadata": {},
     "output_type": "execute_result"
    }
   ],
   "source": [
    "firstNode = Node(10)\n",
    "secondNode = Node(20)\n",
    "thirdNode = Node(30)\n",
    "firstNode.nextNode = secondNode\n",
    "secondNode.nextNode = thirdNode\n",
    "firstNode.nextNode.nextNode.value"
   ]
  },
  {
   "cell_type": "code",
   "execution_count": 7,
   "id": "6591530e",
   "metadata": {},
   "outputs": [],
   "source": [
    "# Doubly Linked List"
   ]
  },
  {
   "cell_type": "code",
   "execution_count": 8,
   "id": "c0dcd8f8",
   "metadata": {},
   "outputs": [],
   "source": [
    "class DoublyNode():\n",
    "    \n",
    "    def __init__(self,value):\n",
    "        self.value = value\n",
    "        self.nextNode = None\n",
    "        self.prevNode = None"
   ]
  },
  {
   "cell_type": "code",
   "execution_count": 9,
   "id": "60803ed7",
   "metadata": {},
   "outputs": [],
   "source": [
    "x = DoublyNode(5)\n",
    "y = DoublyNode(10)\n",
    "z = DoublyNode(15)\n",
    "\n",
    "x.nextNode = y\n",
    "y.prevNode = x\n",
    "\n",
    "y.nextNode = z\n",
    "z.prevNode = y"
   ]
  },
  {
   "cell_type": "code",
   "execution_count": 10,
   "id": "6aece561",
   "metadata": {},
   "outputs": [
    {
     "data": {
      "text/plain": [
       "15"
      ]
     },
     "execution_count": 10,
     "metadata": {},
     "output_type": "execute_result"
    }
   ],
   "source": [
    "x.nextNode.nextNode.value"
   ]
  },
  {
   "cell_type": "code",
   "execution_count": 11,
   "id": "ad544127",
   "metadata": {},
   "outputs": [
    {
     "data": {
      "text/plain": [
       "5"
      ]
     },
     "execution_count": 11,
     "metadata": {},
     "output_type": "execute_result"
    }
   ],
   "source": [
    "z.prevNode.prevNode.value"
   ]
  }
 ],
 "metadata": {
  "kernelspec": {
   "display_name": "Python 3",
   "language": "python",
   "name": "python3"
  },
  "language_info": {
   "codemirror_mode": {
    "name": "ipython",
    "version": 3
   },
   "file_extension": ".py",
   "mimetype": "text/x-python",
   "name": "python",
   "nbconvert_exporter": "python",
   "pygments_lexer": "ipython3",
   "version": "3.13.1"
  }
 },
 "nbformat": 4,
 "nbformat_minor": 5
}
