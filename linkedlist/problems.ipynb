{
 "cells": [
  {
   "cell_type": "markdown",
   "id": "34cbbf3f",
   "metadata": {},
   "source": [
    "19. Remove Nth Node From End of List\n",
    "\n",
    "Given the head of a linked list, remove the nth node from the end of the list and return its head.\n",
    "\n",
    "Example 1:\n",
    "Input: head = [1,2,3,4,5], n = 2\n",
    "Output: [1,2,3,5]\n",
    "\n",
    "Example 2:\n",
    "Input: head = [1], n = 1\n",
    "Output: []\n",
    "\n",
    "Example 3:\n",
    "Input: head = [1,2], n = 1\n",
    "Output: [1]"
   ]
  },
  {
   "cell_type": "code",
   "execution_count": null,
   "id": "fc452e65",
   "metadata": {},
   "outputs": [],
   "source": [
    "class Solution:\n",
    "    def removeNthFromEnd(self, head: Optional[ListNode], n: int) -> Optional[ListNode]:\n",
    "\n",
    "        left=head\n",
    "        right=head\n",
    "\n",
    "        while n > 0  and right:\n",
    "            right=right.next\n",
    "            n-=1\n",
    "        \n",
    "        while right and right.next:\n",
    "            left=left.next\n",
    "            right=right.next\n",
    "        \n",
    "        if left == head and not right:\n",
    "            return left.next\n",
    "            \n",
    "        left.next=left.next.next\n",
    "\n",
    "        return head"
   ]
  },
  {
   "cell_type": "markdown",
   "id": "bedb90f0",
   "metadata": {},
   "source": [
    "160.intersection of two linked lists\n",
    "\n",
    "Given the heads of two singly linked-lists headA and headB, return the node at which the two lists intersect. If the two linked lists have no intersection at all, return null.\n",
    "\n",
    "For example, the following two linked lists begin to intersect at node c1:\n",
    "\n",
    "The test cases are generated such that there are no cycles anywhere in the entire linked structure.\n",
    "\n",
    "Note that the linked lists must retain their original structure after the function returns.\n",
    "\n",
    "Custom Judge:\n",
    "\n",
    "The inputs to the judge are given as follows (your program is not given these inputs):\n",
    "\n",
    "intersectVal - The value of the node where the intersection occurs. This is 0 if there is no intersected node.\n",
    "listA - The first linked list.\n",
    "listB - The second linked list.\n",
    "skipA - The number of nodes to skip ahead in listA (starting from the head) to get to the intersected node.\n",
    "skipB - The number of nodes to skip ahead in listB (starting from the head) to get to the intersected node.\n",
    "The judge will then create the linked structure based on these inputs and pass the two heads, headA and headB to your program. If you correctly return the intersected node, then your solution will be accepted."
   ]
  },
  {
   "cell_type": "code",
   "execution_count": null,
   "id": "0672c601",
   "metadata": {},
   "outputs": [],
   "source": [
    "class Solution:\n",
    "    def getIntersectionNode(self, headA: ListNode, headB: ListNode) -> Optional[ListNode]:\n",
    "\n",
    "        first=headA\n",
    "        second=headB\n",
    "\n",
    "        while first != second:\n",
    "            first= first.next if first is not None else headB\n",
    "            second= second.next if second is not None else headA\n",
    "\n",
    "        return first\n",
    "        "
   ]
  },
  {
   "cell_type": "markdown",
   "id": "6f0290a3",
   "metadata": {},
   "source": [
    "287. Find the Duplicate Number\n",
    "\n",
    "Given an array of integers nums containing n + 1 integers where each integer is in the range [1, n] inclusive.\n",
    "\n",
    "There is only one repeated number in nums, return this repeated number.\n",
    "\n",
    "You must solve the problem without modifying the array nums and uses only constant extra space."
   ]
  },
  {
   "cell_type": "code",
   "execution_count": null,
   "id": "518a4e0d",
   "metadata": {},
   "outputs": [],
   "source": [
    "visit=[0]*len(nums)\n",
    "for num in nums:\n",
    "        if visit[num] == -1:\n",
    "            return num\n",
    "        visit[num]=-1"
   ]
  },
  {
   "cell_type": "code",
   "execution_count": null,
   "id": "c7032bdc",
   "metadata": {},
   "outputs": [],
   "source": [
    "# floyd algorithm (slow and fast pointer)\n",
    "slow=0\n",
    "fast=0\n",
    "\n",
    "while True:\n",
    "    slow=nums[slow]\n",
    "    fast=nums[nums[fast]]\n",
    "            \n",
    "    if slow == fast:\n",
    "        break\n",
    "\n",
    "sec_slow=0\n",
    "\n",
    "while True:\n",
    "    sec_slow=nums[sec_slow]\n",
    "    slow=nums[slow]\n",
    "\n",
    "    if sec_slow == slow:\n",
    "        break\n",
    "\n",
    "return slow\n"
   ]
  }
 ],
 "metadata": {
  "kernelspec": {
   "display_name": "Python 3",
   "language": "python",
   "name": "python3"
  },
  "language_info": {
   "name": "python",
   "version": "3.13.1"
  }
 },
 "nbformat": 4,
 "nbformat_minor": 5
}
